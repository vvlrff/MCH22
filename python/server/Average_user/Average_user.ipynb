{
 "cells": [
  {
   "cell_type": "code",
   "execution_count": 1,
   "metadata": {},
   "outputs": [],
   "source": [
    "import pandas as pd\n",
    "import datetime\n",
    "import json"
   ]
  },
  {
   "cell_type": "code",
   "execution_count": 2,
   "metadata": {},
   "outputs": [],
   "source": [
    "def get_compressedData(listContent_One : list, listContent_Two : list, listHead : list):\n",
    "    listVar = []\n",
    "    for i in range(min(len(listContent_One), len(listContent_Two))):\n",
    "        listVar.append( {listHead[0]:listContent_One[i], listHead[1]:listContent_Two[i]} )\n",
    "    return listVar"
   ]
  },
  {
   "cell_type": "code",
   "execution_count": 3,
   "metadata": {},
   "outputs": [],
   "source": [
    "def save_fileInJSON(content ,strRoot : str, mode = 'w'):\n",
    "    with open(strRoot,mode) as file:\n",
    "        file.write(json.dumps(content))"
   ]
  },
  {
   "cell_type": "code",
   "execution_count": 4,
   "metadata": {},
   "outputs": [],
   "source": [
    "def get_SystSampl( TotalCount, flRate = 0.45):\n",
    "    if type(TotalCount) == int:\n",
    "         return round(TotalCount*flRate)\n",
    "    else:\n",
    "        intVar = TotalCount.shape[0]\n",
    "        return round(intVar*flRate)"
   ]
  },
  {
   "cell_type": "code",
   "execution_count": 5,
   "metadata": {},
   "outputs": [],
   "source": [
    "data = pd.read_csv('RTG_CSV.csv').drop(['Unnamed: 0', 'Unnamed: 0.1'],axis=1)"
   ]
  },
  {
   "cell_type": "code",
   "execution_count": 6,
   "metadata": {},
   "outputs": [],
   "source": [
    "data.loc[data.gender == 'М', \"gender\"] = 'M'\n",
    "data.loc[data.gender == 'Ж', \"gender\"] = 'F'"
   ]
  },
  {
   "cell_type": "code",
   "execution_count": 7,
   "metadata": {},
   "outputs": [
    {
     "data": {
      "text/html": [
       "<div>\n",
       "<style scoped>\n",
       "    .dataframe tbody tr th:only-of-type {\n",
       "        vertical-align: middle;\n",
       "    }\n",
       "\n",
       "    .dataframe tbody tr th {\n",
       "        vertical-align: top;\n",
       "    }\n",
       "\n",
       "    .dataframe thead th {\n",
       "        text-align: right;\n",
       "    }\n",
       "</style>\n",
       "<table border=\"1\" class=\"dataframe\">\n",
       "  <thead>\n",
       "    <tr style=\"text-align: right;\">\n",
       "      <th></th>\n",
       "      <th>client_id</th>\n",
       "      <th>gender</th>\n",
       "      <th>birth_date</th>\n",
       "      <th>create_date</th>\n",
       "      <th>nonresident_flag</th>\n",
       "      <th>city</th>\n",
       "      <th>contract_sum</th>\n",
       "      <th>product_category_name</th>\n",
       "      <th>card_id</th>\n",
       "      <th>card_type_name</th>\n",
       "      <th>start_date</th>\n",
       "      <th>fact_close_date</th>\n",
       "      <th>purchase_sum</th>\n",
       "      <th>purchase_count</th>\n",
       "      <th>current_balance_avg_sum</th>\n",
       "      <th>current_balance_sum</th>\n",
       "      <th>current_debit_turn_sum</th>\n",
       "      <th>current_credit_turn_sum</th>\n",
       "      <th>card_type</th>\n",
       "    </tr>\n",
       "  </thead>\n",
       "  <tbody>\n",
       "    <tr>\n",
       "      <th>0</th>\n",
       "      <td>fe60b594364f9f636266ed1ef4f89c32</td>\n",
       "      <td>F</td>\n",
       "      <td>1985</td>\n",
       "      <td>2020-01-29</td>\n",
       "      <td>R</td>\n",
       "      <td>Гусь-Хрустальный</td>\n",
       "      <td>0</td>\n",
       "      <td>Договор на текущий счет для дебетовой карты</td>\n",
       "      <td>a83cbc33f164deae41b3339141923cc7</td>\n",
       "      <td>Visa Platinum Rewards</td>\n",
       "      <td>2019</td>\n",
       "      <td>2021</td>\n",
       "      <td>16600</td>\n",
       "      <td>71</td>\n",
       "      <td>39700</td>\n",
       "      <td>25700</td>\n",
       "      <td>220600</td>\n",
       "      <td>201000</td>\n",
       "      <td>dc</td>\n",
       "    </tr>\n",
       "    <tr>\n",
       "      <th>1</th>\n",
       "      <td>3012cabca5885ed53d348d6e57dab5de</td>\n",
       "      <td>M</td>\n",
       "      <td>1951</td>\n",
       "      <td>2009-09-24</td>\n",
       "      <td>R</td>\n",
       "      <td>Ишимбай</td>\n",
       "      <td>0</td>\n",
       "      <td>Договор на текущий счет для дебетовой карты</td>\n",
       "      <td>8dae17a830bb05d151034df618efbcad</td>\n",
       "      <td>VISA Classic</td>\n",
       "      <td>2019</td>\n",
       "      <td>-1</td>\n",
       "      <td>4900</td>\n",
       "      <td>2</td>\n",
       "      <td>38000</td>\n",
       "      <td>26800</td>\n",
       "      <td>56300</td>\n",
       "      <td>31300</td>\n",
       "      <td>dc</td>\n",
       "    </tr>\n",
       "    <tr>\n",
       "      <th>2</th>\n",
       "      <td>d871ef96820b6c7a1ada8e01a772724e</td>\n",
       "      <td>F</td>\n",
       "      <td>1982</td>\n",
       "      <td>2006-12-25</td>\n",
       "      <td>R</td>\n",
       "      <td>Юрга</td>\n",
       "      <td>0</td>\n",
       "      <td>Договор на текущий счет для дебетовой карты</td>\n",
       "      <td>429ca8c43cdc5f3d8c9efc9069ee3fa6</td>\n",
       "      <td>NaN</td>\n",
       "      <td>-1</td>\n",
       "      <td>-1</td>\n",
       "      <td>0</td>\n",
       "      <td>0</td>\n",
       "      <td>0</td>\n",
       "      <td>0</td>\n",
       "      <td>0</td>\n",
       "      <td>0</td>\n",
       "      <td>dc</td>\n",
       "    </tr>\n",
       "    <tr>\n",
       "      <th>3</th>\n",
       "      <td>0bacbc2abd314f9fac031d249e485a7b</td>\n",
       "      <td>M</td>\n",
       "      <td>1955</td>\n",
       "      <td>2011-04-15</td>\n",
       "      <td>R</td>\n",
       "      <td>Томск</td>\n",
       "      <td>0</td>\n",
       "      <td>Договор на текущий счет для дебетовой карты</td>\n",
       "      <td>e7f4adb9187b867ebea15503298437a3</td>\n",
       "      <td>Visa Rewards</td>\n",
       "      <td>2021</td>\n",
       "      <td>-1</td>\n",
       "      <td>47800</td>\n",
       "      <td>12</td>\n",
       "      <td>0</td>\n",
       "      <td>0</td>\n",
       "      <td>51500</td>\n",
       "      <td>51500</td>\n",
       "      <td>cc</td>\n",
       "    </tr>\n",
       "    <tr>\n",
       "      <th>4</th>\n",
       "      <td>0bacbc2abd314f9fac031d249e485a7b</td>\n",
       "      <td>M</td>\n",
       "      <td>1955</td>\n",
       "      <td>2011-04-15</td>\n",
       "      <td>R</td>\n",
       "      <td>Томск</td>\n",
       "      <td>0</td>\n",
       "      <td>Договор на текущий счет для дебетовой карты</td>\n",
       "      <td>e7d13882154e965dca7070eb8d626f77</td>\n",
       "      <td>Eurocard/MasterCard World</td>\n",
       "      <td>2018</td>\n",
       "      <td>2022</td>\n",
       "      <td>47800</td>\n",
       "      <td>12</td>\n",
       "      <td>0</td>\n",
       "      <td>0</td>\n",
       "      <td>51500</td>\n",
       "      <td>51500</td>\n",
       "      <td>cc</td>\n",
       "    </tr>\n",
       "    <tr>\n",
       "      <th>...</th>\n",
       "      <td>...</td>\n",
       "      <td>...</td>\n",
       "      <td>...</td>\n",
       "      <td>...</td>\n",
       "      <td>...</td>\n",
       "      <td>...</td>\n",
       "      <td>...</td>\n",
       "      <td>...</td>\n",
       "      <td>...</td>\n",
       "      <td>...</td>\n",
       "      <td>...</td>\n",
       "      <td>...</td>\n",
       "      <td>...</td>\n",
       "      <td>...</td>\n",
       "      <td>...</td>\n",
       "      <td>...</td>\n",
       "      <td>...</td>\n",
       "      <td>...</td>\n",
       "      <td>...</td>\n",
       "    </tr>\n",
       "    <tr>\n",
       "      <th>16308</th>\n",
       "      <td>9acb18399b830419bac9653b52754646</td>\n",
       "      <td>M</td>\n",
       "      <td>1986</td>\n",
       "      <td>2015-05-20</td>\n",
       "      <td>R</td>\n",
       "      <td>Уфа</td>\n",
       "      <td>0</td>\n",
       "      <td>Договор на текущий счет для дебетовой карты</td>\n",
       "      <td>d090cb20c22e2643ec366daf8d26d646</td>\n",
       "      <td>NaN</td>\n",
       "      <td>-1</td>\n",
       "      <td>-1</td>\n",
       "      <td>0</td>\n",
       "      <td>0</td>\n",
       "      <td>0</td>\n",
       "      <td>0</td>\n",
       "      <td>0</td>\n",
       "      <td>0</td>\n",
       "      <td>dc</td>\n",
       "    </tr>\n",
       "    <tr>\n",
       "      <th>16309</th>\n",
       "      <td>8b3206ca8d77aa2446824971f47c531b</td>\n",
       "      <td>F</td>\n",
       "      <td>1996</td>\n",
       "      <td>2022-04-28</td>\n",
       "      <td>R</td>\n",
       "      <td>Казань</td>\n",
       "      <td>30000</td>\n",
       "      <td>Кредитная карта</td>\n",
       "      <td>5a0041efbd5832765caf8b9f861bffa3</td>\n",
       "      <td>NaN</td>\n",
       "      <td>-1</td>\n",
       "      <td>-1</td>\n",
       "      <td>22700</td>\n",
       "      <td>7</td>\n",
       "      <td>0</td>\n",
       "      <td>0</td>\n",
       "      <td>22700</td>\n",
       "      <td>22700</td>\n",
       "      <td>dc</td>\n",
       "    </tr>\n",
       "    <tr>\n",
       "      <th>16310</th>\n",
       "      <td>d69d3201104ab393c0638839a7284ad7</td>\n",
       "      <td>M</td>\n",
       "      <td>1953</td>\n",
       "      <td>2018-08-08</td>\n",
       "      <td>R</td>\n",
       "      <td>Пятигорск</td>\n",
       "      <td>200000</td>\n",
       "      <td>Кредитная карта</td>\n",
       "      <td>a78c73e84e893179de17071583cf5084</td>\n",
       "      <td>NaN</td>\n",
       "      <td>-1</td>\n",
       "      <td>-1</td>\n",
       "      <td>0</td>\n",
       "      <td>0</td>\n",
       "      <td>0</td>\n",
       "      <td>300</td>\n",
       "      <td>9900</td>\n",
       "      <td>10100</td>\n",
       "      <td>dc</td>\n",
       "    </tr>\n",
       "    <tr>\n",
       "      <th>16311</th>\n",
       "      <td>a936fb30e2268d2874cdcaa221032915</td>\n",
       "      <td>M</td>\n",
       "      <td>1997</td>\n",
       "      <td>2022-05-12</td>\n",
       "      <td>R</td>\n",
       "      <td>Кемерово</td>\n",
       "      <td>15000</td>\n",
       "      <td>Кредитная карта</td>\n",
       "      <td>e3304eaf55891a175b6abf8030b99da1</td>\n",
       "      <td>NaN</td>\n",
       "      <td>-1</td>\n",
       "      <td>-1</td>\n",
       "      <td>15000</td>\n",
       "      <td>33</td>\n",
       "      <td>0</td>\n",
       "      <td>0</td>\n",
       "      <td>15000</td>\n",
       "      <td>15000</td>\n",
       "      <td>dc</td>\n",
       "    </tr>\n",
       "    <tr>\n",
       "      <th>16312</th>\n",
       "      <td>93237191eddf8dec77cc947c3c086358</td>\n",
       "      <td>F</td>\n",
       "      <td>1959</td>\n",
       "      <td>2012-07-19</td>\n",
       "      <td>R</td>\n",
       "      <td>Москва</td>\n",
       "      <td>30000</td>\n",
       "      <td>Кредитная карта</td>\n",
       "      <td>db7d3058f19b8bab645cf33efd86330d</td>\n",
       "      <td>NaN</td>\n",
       "      <td>-1</td>\n",
       "      <td>-1</td>\n",
       "      <td>9900</td>\n",
       "      <td>19</td>\n",
       "      <td>0</td>\n",
       "      <td>0</td>\n",
       "      <td>29900</td>\n",
       "      <td>29900</td>\n",
       "      <td>dc</td>\n",
       "    </tr>\n",
       "  </tbody>\n",
       "</table>\n",
       "<p>16313 rows × 19 columns</p>\n",
       "</div>"
      ],
      "text/plain": [
       "                              client_id gender  birth_date create_date  \\\n",
       "0      fe60b594364f9f636266ed1ef4f89c32      F        1985  2020-01-29   \n",
       "1      3012cabca5885ed53d348d6e57dab5de      M        1951  2009-09-24   \n",
       "2      d871ef96820b6c7a1ada8e01a772724e      F        1982  2006-12-25   \n",
       "3      0bacbc2abd314f9fac031d249e485a7b      M        1955  2011-04-15   \n",
       "4      0bacbc2abd314f9fac031d249e485a7b      M        1955  2011-04-15   \n",
       "...                                 ...    ...         ...         ...   \n",
       "16308  9acb18399b830419bac9653b52754646      M        1986  2015-05-20   \n",
       "16309  8b3206ca8d77aa2446824971f47c531b      F        1996  2022-04-28   \n",
       "16310  d69d3201104ab393c0638839a7284ad7      M        1953  2018-08-08   \n",
       "16311  a936fb30e2268d2874cdcaa221032915      M        1997  2022-05-12   \n",
       "16312  93237191eddf8dec77cc947c3c086358      F        1959  2012-07-19   \n",
       "\n",
       "      nonresident_flag              city  contract_sum  \\\n",
       "0                    R  Гусь-Хрустальный             0   \n",
       "1                    R           Ишимбай             0   \n",
       "2                    R              Юрга             0   \n",
       "3                    R             Томск             0   \n",
       "4                    R             Томск             0   \n",
       "...                ...               ...           ...   \n",
       "16308                R               Уфа             0   \n",
       "16309                R            Казань         30000   \n",
       "16310                R         Пятигорск        200000   \n",
       "16311                R          Кемерово         15000   \n",
       "16312                R            Москва         30000   \n",
       "\n",
       "                             product_category_name  \\\n",
       "0      Договор на текущий счет для дебетовой карты   \n",
       "1      Договор на текущий счет для дебетовой карты   \n",
       "2      Договор на текущий счет для дебетовой карты   \n",
       "3      Договор на текущий счет для дебетовой карты   \n",
       "4      Договор на текущий счет для дебетовой карты   \n",
       "...                                            ...   \n",
       "16308  Договор на текущий счет для дебетовой карты   \n",
       "16309                              Кредитная карта   \n",
       "16310                              Кредитная карта   \n",
       "16311                              Кредитная карта   \n",
       "16312                              Кредитная карта   \n",
       "\n",
       "                                card_id             card_type_name  \\\n",
       "0      a83cbc33f164deae41b3339141923cc7      Visa Platinum Rewards   \n",
       "1      8dae17a830bb05d151034df618efbcad               VISA Classic   \n",
       "2      429ca8c43cdc5f3d8c9efc9069ee3fa6                        NaN   \n",
       "3      e7f4adb9187b867ebea15503298437a3               Visa Rewards   \n",
       "4      e7d13882154e965dca7070eb8d626f77  Eurocard/MasterCard World   \n",
       "...                                 ...                        ...   \n",
       "16308  d090cb20c22e2643ec366daf8d26d646                        NaN   \n",
       "16309  5a0041efbd5832765caf8b9f861bffa3                        NaN   \n",
       "16310  a78c73e84e893179de17071583cf5084                        NaN   \n",
       "16311  e3304eaf55891a175b6abf8030b99da1                        NaN   \n",
       "16312  db7d3058f19b8bab645cf33efd86330d                        NaN   \n",
       "\n",
       "       start_date  fact_close_date  purchase_sum  purchase_count  \\\n",
       "0            2019             2021         16600              71   \n",
       "1            2019               -1          4900               2   \n",
       "2              -1               -1             0               0   \n",
       "3            2021               -1         47800              12   \n",
       "4            2018             2022         47800              12   \n",
       "...           ...              ...           ...             ...   \n",
       "16308          -1               -1             0               0   \n",
       "16309          -1               -1         22700               7   \n",
       "16310          -1               -1             0               0   \n",
       "16311          -1               -1         15000              33   \n",
       "16312          -1               -1          9900              19   \n",
       "\n",
       "       current_balance_avg_sum  current_balance_sum  current_debit_turn_sum  \\\n",
       "0                        39700                25700                  220600   \n",
       "1                        38000                26800                   56300   \n",
       "2                            0                    0                       0   \n",
       "3                            0                    0                   51500   \n",
       "4                            0                    0                   51500   \n",
       "...                        ...                  ...                     ...   \n",
       "16308                        0                    0                       0   \n",
       "16309                        0                    0                   22700   \n",
       "16310                        0                  300                    9900   \n",
       "16311                        0                    0                   15000   \n",
       "16312                        0                    0                   29900   \n",
       "\n",
       "       current_credit_turn_sum card_type  \n",
       "0                       201000        dc  \n",
       "1                        31300        dc  \n",
       "2                            0        dc  \n",
       "3                        51500        cc  \n",
       "4                        51500        cc  \n",
       "...                        ...       ...  \n",
       "16308                        0        dc  \n",
       "16309                    22700        dc  \n",
       "16310                    10100        dc  \n",
       "16311                    15000        dc  \n",
       "16312                    29900        dc  \n",
       "\n",
       "[16313 rows x 19 columns]"
      ]
     },
     "execution_count": 7,
     "metadata": {},
     "output_type": "execute_result"
    }
   ],
   "source": [
    "data"
   ]
  },
  {
   "cell_type": "markdown",
   "metadata": {},
   "source": [
    "Суммарный остаток на карте"
   ]
  },
  {
   "cell_type": "code",
   "execution_count": 8,
   "metadata": {},
   "outputs": [],
   "source": [
    "avrBalance = data\n",
    "avrBalance = avrBalance.query(\"current_balance_avg_sum > 0\")\n",
    "avrBalance = avrBalance.current_balance_avg_sum\n",
    "avrBalance = avrBalance.sample(n=get_SystSampl(avrBalance))\n"
   ]
  },
  {
   "cell_type": "code",
   "execution_count": 9,
   "metadata": {},
   "outputs": [],
   "source": [
    "avrBalance = avrBalance.median()\n",
    "avrBalance = avrBalance.tolist()"
   ]
  },
  {
   "cell_type": "code",
   "execution_count": 10,
   "metadata": {},
   "outputs": [],
   "source": [
    "save_fileInJSON([{'avrBalance': avrBalance}], 'avrBalance.json')"
   ]
  },
  {
   "cell_type": "markdown",
   "metadata": {},
   "source": [
    "Мужчины / Женщины"
   ]
  },
  {
   "cell_type": "code",
   "execution_count": 11,
   "metadata": {},
   "outputs": [],
   "source": [
    "ManToWoman = data\n",
    "ManToWoman = ManToWoman.drop_duplicates(subset=['client_id'])\n",
    "ManToWoman = ManToWoman.sample(n=get_SystSampl(ManToWoman))\n",
    "ManToWoman = ManToWoman['gender'].value_counts()"
   ]
  },
  {
   "cell_type": "code",
   "execution_count": 12,
   "metadata": {},
   "outputs": [],
   "source": [
    "listGender   = [(ManToWoman.index)[0],(ManToWoman.index)[1]]\n",
    "listPercent  = [[ManToWoman.values][0][0].tolist(), [ManToWoman.values][0][1].tolist()]\n",
    "listHead = ['Gender','Percent']\n",
    "save_fileInJSON(  get_compressedData( listGender, listPercent, listHead), 'Gender.json')"
   ]
  },
  {
   "cell_type": "markdown",
   "metadata": {},
   "source": [
    "Количество приобретённых карт за год"
   ]
  },
  {
   "cell_type": "code",
   "execution_count": 13,
   "metadata": {},
   "outputs": [],
   "source": [
    "now = datetime.datetime.now()"
   ]
  },
  {
   "cell_type": "code",
   "execution_count": 14,
   "metadata": {},
   "outputs": [],
   "source": [
    "cardTypeDF = data.query(f\"start_date >= {now.year}-1\")\n",
    "cardTypeDF = cardTypeDF.sample(n=get_SystSampl(cardTypeDF))"
   ]
  },
  {
   "cell_type": "code",
   "execution_count": 15,
   "metadata": {},
   "outputs": [],
   "source": [
    "listCardType = cardTypeDF['card_type_name'].unique()"
   ]
  },
  {
   "cell_type": "code",
   "execution_count": 16,
   "metadata": {},
   "outputs": [],
   "source": [
    "cardTypeDF = cardTypeDF['card_type_name'].value_counts()"
   ]
  },
  {
   "cell_type": "code",
   "execution_count": 17,
   "metadata": {},
   "outputs": [],
   "source": [
    "sum = cardTypeDF.values.sum()"
   ]
  },
  {
   "cell_type": "code",
   "execution_count": 18,
   "metadata": {},
   "outputs": [],
   "source": [
    "listCreditSys = ['МИР', 'MIR', 'Visa', 'MasterCard','Maestro','Other']\n",
    "listCreditSysCount = [0]*len(listCreditSys)"
   ]
  },
  {
   "cell_type": "code",
   "execution_count": 19,
   "metadata": {},
   "outputs": [],
   "source": [
    "for i in range(len(cardTypeDF.index)):\n",
    "    for j in range(len(listCreditSys)):\n",
    "        if (listCreditSys[j] in cardTypeDF.index[i]) or (listCreditSys[j] in cardTypeDF.index[i].capitalize()) : listCreditSysCount[j] += cardTypeDF.values[i]"
   ]
  },
  {
   "cell_type": "code",
   "execution_count": 20,
   "metadata": {},
   "outputs": [],
   "source": [
    "var = 0\n",
    "for i in range(len(listCreditSysCount)): var += listCreditSysCount[i]"
   ]
  },
  {
   "cell_type": "code",
   "execution_count": 21,
   "metadata": {},
   "outputs": [],
   "source": [
    "listCreditSysCount[len(listCreditSysCount[:-1])] = sum - var"
   ]
  },
  {
   "cell_type": "code",
   "execution_count": 22,
   "metadata": {},
   "outputs": [],
   "source": [
    "listCreditSys = listCreditSys[1:]\n",
    "listCreditSysCount[1] = listCreditSysCount[0] + listCreditSysCount[1]\n",
    "listCreditSysCount = listCreditSysCount[1:]"
   ]
  },
  {
   "cell_type": "code",
   "execution_count": 23,
   "metadata": {},
   "outputs": [],
   "source": [
    "for i in range(len(listCreditSysCount)): listCreditSysCount[i] = round(listCreditSysCount[i]*100/sum, 1)"
   ]
  },
  {
   "cell_type": "code",
   "execution_count": 24,
   "metadata": {},
   "outputs": [],
   "source": [
    "save_fileInJSON(get_compressedData(listCreditSys, listCreditSysCount,['SystemName','Percent']), 'NewBankCard.json')"
   ]
  },
  {
   "cell_type": "markdown",
   "metadata": {},
   "source": [
    "Кол-во действующих банковских карт у человека в среднем"
   ]
  },
  {
   "cell_type": "code",
   "execution_count": 25,
   "metadata": {},
   "outputs": [],
   "source": [
    "ValueCardData = data\n",
    "ValueCardData = ValueCardData.query(\"start_date != -1 & fact_close_date == -1\")\n",
    "ValueCardData = ValueCardData.drop(['purchase_sum','create_date', \"create_date\",'purchase_count','current_balance_avg_sum','current_balance_sum','current_debit_turn_sum','current_credit_turn_sum','contract_sum','gender','birth_date'], axis=1)\n",
    "ValueCardData = ValueCardData.drop(['card_type_name', 'start_date', 'fact_close_date', 'card_type', 'product_category_name', 'city', 'nonresident_flag'], axis=1)"
   ]
  },
  {
   "cell_type": "code",
   "execution_count": 26,
   "metadata": {},
   "outputs": [],
   "source": [
    "ValueCardData = ValueCardData.value_counts('client_id')"
   ]
  },
  {
   "cell_type": "code",
   "execution_count": 27,
   "metadata": {},
   "outputs": [],
   "source": [
    "ValueCardData = ValueCardData.drop_duplicates()\n",
    "ValueCardData = ValueCardData.sample(n=get_SystSampl(ValueCardData))"
   ]
  },
  {
   "cell_type": "code",
   "execution_count": 28,
   "metadata": {},
   "outputs": [],
   "source": [
    "listCreditCard = [1,2,3,\"4+\"]\n",
    "listCreditCardCount = [0]*len(listCreditCard)"
   ]
  },
  {
   "cell_type": "code",
   "execution_count": 29,
   "metadata": {},
   "outputs": [],
   "source": [
    "for i in range(len(ValueCardData.index)):\n",
    "        if ValueCardData[i] == 1:\n",
    "            listCreditCardCount[0] +=1\n",
    "        elif ValueCardData[i] == 2:\n",
    "            listCreditCardCount[1] +=1\n",
    "        elif ValueCardData[i] == 3:\n",
    "            listCreditCardCount[2] +=1\n",
    "        else:\n",
    "            listCreditCardCount[3] +=1"
   ]
  },
  {
   "cell_type": "code",
   "execution_count": 30,
   "metadata": {},
   "outputs": [],
   "source": [
    "intSum = 0\n",
    "for i in range(len(listCreditCardCount)) : intSum += listCreditCardCount[i]"
   ]
  },
  {
   "cell_type": "code",
   "execution_count": 31,
   "metadata": {},
   "outputs": [],
   "source": [
    "for i in range(len(listCreditCardCount)):\n",
    "    listCreditCardCount[i] = round(listCreditCardCount[i] * 100 / intSum,2)"
   ]
  },
  {
   "cell_type": "code",
   "execution_count": 32,
   "metadata": {},
   "outputs": [],
   "source": [
    "save_fileInJSON(get_compressedData(listCreditCard, listCreditCardCount,['CardType','CardCount']), 'CreditCardCount.json')"
   ]
  },
  {
   "cell_type": "markdown",
   "metadata": {},
   "source": [
    "Возраст пользователей "
   ]
  },
  {
   "cell_type": "code",
   "execution_count": 33,
   "metadata": {},
   "outputs": [],
   "source": [
    "ValueAgeData = data.query(\"start_date != -1 & fact_close_date == -1\")\n",
    "ValueAgeData = ValueAgeData.drop(['purchase_sum','create_date', \"create_date\",'purchase_count','current_balance_avg_sum','current_balance_sum','current_debit_turn_sum','current_credit_turn_sum','contract_sum','gender'], axis=1)\n",
    "ValueAgeData = ValueAgeData.drop(['card_type_name', 'start_date', 'fact_close_date', 'card_type', 'product_category_name', 'city', 'nonresident_flag','card_id'], axis=1)\n",
    "ValueAgeData = ValueAgeData.sample(n=get_SystSampl(ValueAgeData))"
   ]
  },
  {
   "cell_type": "code",
   "execution_count": 34,
   "metadata": {},
   "outputs": [],
   "source": [
    "def getlistEqualPartsOfNumberParts(intNub, intParts):\n",
    "  d, r = divmod(intNub, intParts)\n",
    "  return [d + (1 if i < r else 0) for i in range(intParts)]"
   ]
  },
  {
   "cell_type": "code",
   "execution_count": 35,
   "metadata": {},
   "outputs": [],
   "source": [
    "intMaxAge = 66"
   ]
  },
  {
   "cell_type": "code",
   "execution_count": 36,
   "metadata": {},
   "outputs": [],
   "source": [
    "listAgeZone = getlistEqualPartsOfNumberParts(100,14)"
   ]
  },
  {
   "cell_type": "code",
   "execution_count": 37,
   "metadata": {},
   "outputs": [],
   "source": [
    "listCountAgeZone = [0] * len(listAgeZone)\n",
    "listSrtAgeZone = []\n",
    "if listAgeZone[0] < 14: intLeft = 14-listAgeZone[0]\n",
    "intRigth = listAgeZone[0]\n",
    "intSum = 0"
   ]
  },
  {
   "cell_type": "code",
   "execution_count": 38,
   "metadata": {},
   "outputs": [],
   "source": [
    "for i in range(len(listAgeZone)-1):\n",
    "    intLeft += listAgeZone[i]\n",
    "    intRigth += listAgeZone[i+1]\n",
    "    listCountAgeZone[i] += ValueAgeData.query(f\"{now.year-intLeft} >= birth_date > {now.year-intRigth}\").shape[0]\n",
    "    intSum += listCountAgeZone[i]\n",
    "    listSrtAgeZone.append( str(str(intLeft) + '-' + str(intRigth)) )\n",
    "    if i == 0 : intLeft -= 14-listAgeZone[0]\n"
   ]
  },
  {
   "cell_type": "code",
   "execution_count": 39,
   "metadata": {},
   "outputs": [],
   "source": [
    "for i in range(len(listCountAgeZone)): listCountAgeZone[i] = round(listCountAgeZone[i]   * 100 / intSum,2)"
   ]
  },
  {
   "cell_type": "code",
   "execution_count": 40,
   "metadata": {},
   "outputs": [],
   "source": [
    "save_fileInJSON(get_compressedData(listSrtAgeZone[:-1], listCountAgeZone, ['Age','Percent'] ), 'Age.json')"
   ]
  },
  {
   "cell_type": "markdown",
   "metadata": {},
   "source": [
    "Сколько средний остаток за месяц по кредитным картам"
   ]
  },
  {
   "cell_type": "code",
   "execution_count": 41,
   "metadata": {},
   "outputs": [],
   "source": [
    "turnBalanceData = data\n",
    "turnBalanceData = turnBalanceData.drop([ 'gender', 'birth_date', 'create_date', 'nonresident_flag', 'city', 'contract_sum', 'card_type_name', 'start_date', 'fact_close_date'], axis=1)\n",
    "balanceData = turnBalanceData.drop_duplicates(subset='card_id')\n",
    "creditTurnBalanceData = turnBalanceData.query(\"current_credit_turn_sum > 0 & product_category_name == 'Договор на текущий счет для дебетовой карты'\")\n",
    "creditTurnBalanceData = creditTurnBalanceData.sample(n=get_SystSampl(creditTurnBalanceData))\n",
    "debetTurnBalanceData  = turnBalanceData.query(\"current_debit_turn_sum > 0  & product_category_name == 'Кредитная карта'\")\n",
    "debetTurnBalanceData = debetTurnBalanceData.sample(n=get_SystSampl(debetTurnBalanceData))\n",
    "#ValueAgeData = ValueAgeData.sample(n=get_SystSampl(ValueAgeData))"
   ]
  },
  {
   "cell_type": "code",
   "execution_count": 42,
   "metadata": {},
   "outputs": [
    {
     "data": {
      "text/plain": [
       "[699, 4905]"
      ]
     },
     "execution_count": 42,
     "metadata": {},
     "output_type": "execute_result"
    }
   ],
   "source": [
    "[debetTurnBalanceData.shape[0], creditTurnBalanceData.shape[0]]"
   ]
  },
  {
   "cell_type": "code",
   "execution_count": 43,
   "metadata": {},
   "outputs": [],
   "source": [
    "medianDebetTurnBalanceData = debetTurnBalanceData['current_debit_turn_sum'].median()\n",
    "medianCreditTurnBalanceData = creditTurnBalanceData['current_credit_turn_sum'].median()"
   ]
  },
  {
   "cell_type": "code",
   "execution_count": 44,
   "metadata": {},
   "outputs": [],
   "source": [
    "save_fileInJSON([ { 'MedianDebetTurnSum':int(medianDebetTurnBalanceData),'MedianCreditTurnSum':int(medianCreditTurnBalanceData) } ], 'MedianBalance.json')"
   ]
  },
  {
   "cell_type": "markdown",
   "metadata": {},
   "source": [
    "Среднее время пользование банком"
   ]
  },
  {
   "cell_type": "code",
   "execution_count": 45,
   "metadata": {},
   "outputs": [],
   "source": [
    "AvrTimeUse = data\n",
    "AvrTimeUse = AvrTimeUse[ ['client_id', 'card_id','start_date', 'fact_close_date'] ]\n",
    "AvrTimeUse = AvrTimeUse.query(\"start_date > 0\").sample(n=get_SystSampl(AvrTimeUse))\n",
    "AvrTimeUse['Sum'] = 0\n",
    "AvrTimeUse.loc[((AvrTimeUse.fact_close_date == -1)  ), \"fact_close_date\"] = now.year\n",
    "AvrTimeUse.Sum = AvrTimeUse.fact_close_date - AvrTimeUse.start_date"
   ]
  },
  {
   "cell_type": "code",
   "execution_count": 46,
   "metadata": {},
   "outputs": [],
   "source": [
    "medianAvrTimeUse = AvrTimeUse.Sum.median()"
   ]
  },
  {
   "cell_type": "code",
   "execution_count": 47,
   "metadata": {},
   "outputs": [
    {
     "data": {
      "text/plain": [
       "1.0"
      ]
     },
     "execution_count": 47,
     "metadata": {},
     "output_type": "execute_result"
    }
   ],
   "source": [
    "medianAvrTimeUse"
   ]
  },
  {
   "cell_type": "code",
   "execution_count": 48,
   "metadata": {},
   "outputs": [],
   "source": [
    "save_fileInJSON([{\"MidAvrBankUseTime\":medianAvrTimeUse}],'MidAvrBankUseTime.json')"
   ]
  }
 ],
 "metadata": {
  "kernelspec": {
   "display_name": "Python 3.10.2 64-bit",
   "language": "python",
   "name": "python3"
  },
  "language_info": {
   "codemirror_mode": {
    "name": "ipython",
    "version": 3
   },
   "file_extension": ".py",
   "mimetype": "text/x-python",
   "name": "python",
   "nbconvert_exporter": "python",
   "pygments_lexer": "ipython3",
   "version": "3.10.2"
  },
  "orig_nbformat": 4,
  "vscode": {
   "interpreter": {
    "hash": "aee8b7b246df8f9039afb4144a1f6fd8d2ca17a180786b69acc140d282b71a49"
   }
  }
 },
 "nbformat": 4,
 "nbformat_minor": 2
}
