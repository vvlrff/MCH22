{
 "cells": [
  {
   "cell_type": "code",
   "execution_count": 85,
   "metadata": {},
   "outputs": [],
   "source": [
    "import glob\n",
    "import json\n",
    "\n",
    "listJSONFiles = glob.glob('./*.json')"
   ]
  },
  {
   "cell_type": "code",
   "execution_count": 86,
   "metadata": {},
   "outputs": [
    {
     "data": {
      "text/plain": [
       "['.\\\\Age.json',\n",
       " '.\\\\avrBalance.json',\n",
       " '.\\\\CreditCardCount.json',\n",
       " '.\\\\Gender.json',\n",
       " '.\\\\MedianBalance.json',\n",
       " '.\\\\MidAvrBankUseTime.json',\n",
       " '.\\\\NewBankCard.json',\n",
       " '.\\\\ZippedJSON.json']"
      ]
     },
     "execution_count": 86,
     "metadata": {},
     "output_type": "execute_result"
    }
   ],
   "source": [
    "listJSONFiles"
   ]
  },
  {
   "cell_type": "code",
   "execution_count": 87,
   "metadata": {},
   "outputs": [
    {
     "name": "stdout",
     "output_type": "stream",
     "text": [
      "[[{'Age': '14-16', 'Percent': 0.0}, {'Age': '16-23', 'Percent': 8.02}, {'Age': '23-30', 'Percent': 11.8}, {'Age': '30-37', 'Percent': 18.68}, {'Age': '37-44', 'Percent': 18.47}, {'Age': '44-51', 'Percent': 15.54}, {'Age': '51-58', 'Percent': 12.21}, {'Age': '58-65', 'Percent': 9.92}, {'Age': '65-72', 'Percent': 3.57}, {'Age': '72-79', 'Percent': 1.52}, {'Age': '79-86', 'Percent': 0.15}, {'Age': '86-93', 'Percent': 0.12}], [{'avrBalance': 4700.0}], [{'CardType': 1, 'CardCount': 0.0}, {'CardType': 2, 'CardCount': 25.0}, {'CardType': 3, 'CardCount': 25.0}, {'CardType': '4+', 'CardCount': 50.0}], [{'Gender': 'F', 'Percent': 2843}, {'Gender': 'M', 'Percent': 2582}], [{'MedianDebetTurnSum': 42000, 'MedianCreditTurnSum': 45700}], [{'MidAvrBankUseTime': 1.0}], [{'SystemName': 'MIR', 'Percent': 27.1}, {'SystemName': 'Visa', 'Percent': 58.3}, {'SystemName': 'MasterCard', 'Percent': 13.3}, {'SystemName': 'Maestro', 'Percent': 0.0}, {'SystemName': 'Other', 'Percent': 1.4}], [[{'Age': '14-16', 'Percent': 0.0}], [{'avrBalance': 4700.0}], [{'CardType': 1, 'CardCount': 0.0}], [{'Gender': 'F', 'Percent': 2843}], [{'MedianDebetTurnSum': 42000, 'MedianCreditTurnSum': 45700}], [{'MidAvrBankUseTime': 1.0}], [{'SystemName': 'MIR', 'Percent': 27.1}], [[[{'Age': '14-16', 'Percent': 0.0}, {'Age': '16-23', 'Percent': 8.02}, {'Age': '23-30', 'Percent': 11.8}, {'Age': '30-37', 'Percent': 18.68}, {'Age': '37-44', 'Percent': 18.47}, {'Age': '44-51', 'Percent': 15.54}, {'Age': '51-58', 'Percent': 12.21}, {'Age': '58-65', 'Percent': 9.92}, {'Age': '65-72', 'Percent': 3.57}, {'Age': '72-79', 'Percent': 1.52}, {'Age': '79-86', 'Percent': 0.15}, {'Age': '86-93', 'Percent': 0.12}]]]]]\n"
     ]
    }
   ],
   "source": [
    "listDict = []\n",
    "for i in range(len(listJSONFiles)):\n",
    "    listDictVar = []\n",
    "    with open(listJSONFiles[i], 'r') as file:\n",
    "        listDictVar.append(json.load(file))\n",
    "    listDict.append(listDictVar[0])\n",
    "print(listDict)"
   ]
  },
  {
   "cell_type": "code",
   "execution_count": 88,
   "metadata": {},
   "outputs": [],
   "source": [
    "with open('ZippedJSON.json', 'w') as file:\n",
    "    file.write(json.dumps(listDict,indent=1))"
   ]
  },
  {
   "cell_type": "code",
   "execution_count": null,
   "metadata": {},
   "outputs": [],
   "source": []
  }
 ],
 "metadata": {
  "kernelspec": {
   "display_name": "Python 3.8.10 64-bit (windows store)",
   "language": "python",
   "name": "python3"
  },
  "language_info": {
   "codemirror_mode": {
    "name": "ipython",
    "version": 3
   },
   "file_extension": ".py",
   "mimetype": "text/x-python",
   "name": "python",
   "nbconvert_exporter": "python",
   "pygments_lexer": "ipython3",
   "version": "3.8.10"
  },
  "orig_nbformat": 4,
  "vscode": {
   "interpreter": {
    "hash": "a4c666bb8bcca651d5f0a1a5c18ce420848431a9af5daeb4843d708669ed8004"
   }
  }
 },
 "nbformat": 4,
 "nbformat_minor": 2
}
